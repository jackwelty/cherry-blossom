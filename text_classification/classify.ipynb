{
 "cells": [
  {
   "cell_type": "code",
   "execution_count": 1,
   "metadata": {},
   "outputs": [
    {
     "data": {
      "application/vnd.jupyter.widget-view+json": {
       "model_id": "e28570e8117748a5a13835b513ca2754",
       "version_major": 2,
       "version_minor": 0
      },
      "text/plain": [
       "Downloading (…)\"pytorch_model.bin\";:   0%|          | 0.00/1.63G [00:00<?, ?B/s]"
      ]
     },
     "metadata": {},
     "output_type": "display_data"
    },
    {
     "data": {
      "application/vnd.jupyter.widget-view+json": {
       "model_id": "6a97e3dbfc994d7484ff66370b40ef0f",
       "version_major": 2,
       "version_minor": 0
      },
      "text/plain": [
       "Downloading (…)okenizer_config.json:   0%|          | 0.00/26.0 [00:00<?, ?B/s]"
      ]
     },
     "metadata": {},
     "output_type": "display_data"
    },
    {
     "data": {
      "application/vnd.jupyter.widget-view+json": {
       "model_id": "fb43d6f893c14212b11894554af59148",
       "version_major": 2,
       "version_minor": 0
      },
      "text/plain": [
       "Downloading (…)olve/main/vocab.json:   0%|          | 0.00/899k [00:00<?, ?B/s]"
      ]
     },
     "metadata": {},
     "output_type": "display_data"
    },
    {
     "data": {
      "application/vnd.jupyter.widget-view+json": {
       "model_id": "be0301e221e8484e9aba38cabe13085a",
       "version_major": 2,
       "version_minor": 0
      },
      "text/plain": [
       "Downloading (…)olve/main/merges.txt:   0%|          | 0.00/456k [00:00<?, ?B/s]"
      ]
     },
     "metadata": {},
     "output_type": "display_data"
    },
    {
     "data": {
      "application/vnd.jupyter.widget-view+json": {
       "model_id": "cf6320b69dc4434788cf41b284863f76",
       "version_major": 2,
       "version_minor": 0
      },
      "text/plain": [
       "Downloading (…)/main/tokenizer.json:   0%|          | 0.00/1.36M [00:00<?, ?B/s]"
      ]
     },
     "metadata": {},
     "output_type": "display_data"
    }
   ],
   "source": [
    "from transformers import pipeline\n",
    "classifier = pipeline(\"zero-shot-classification\",\n",
    "                      model=\"facebook/bart-large-mnli\")\n"
   ]
  },
  {
   "cell_type": "code",
   "execution_count": 2,
   "metadata": {},
   "outputs": [
    {
     "data": {
      "text/plain": [
       "{'sequence': 'one day I will see the world',\n",
       " 'labels': ['travel', 'dancing', 'cooking'],\n",
       " 'scores': [0.9938652515411377, 0.0032737920992076397, 0.0028610059525817633]}"
      ]
     },
     "execution_count": 2,
     "metadata": {},
     "output_type": "execute_result"
    }
   ],
   "source": [
    "sequence_to_classify = \"one day I will see the world\"\n",
    "candidate_labels = ['travel', 'cooking', 'dancing']\n",
    "classifier(sequence_to_classify, candidate_labels)"
   ]
  },
  {
   "cell_type": "code",
   "execution_count": 4,
   "metadata": {},
   "outputs": [],
   "source": [
    "import pandas as pd\n",
    "df = pd.read_csv('training_data.csv')"
   ]
  },
  {
   "cell_type": "code",
   "execution_count": 9,
   "metadata": {},
   "outputs": [],
   "source": [
    "df['input'] = df['title_clean'] + '_' + df['body_clean']"
   ]
  },
  {
   "cell_type": "code",
   "execution_count": 34,
   "metadata": {},
   "outputs": [],
   "source": [
    "df = df_full"
   ]
  },
  {
   "cell_type": "code",
   "execution_count": 18,
   "metadata": {},
   "outputs": [
    {
     "data": {
      "text/html": [
       "<div>\n",
       "<style scoped>\n",
       "    .dataframe tbody tr th:only-of-type {\n",
       "        vertical-align: middle;\n",
       "    }\n",
       "\n",
       "    .dataframe tbody tr th {\n",
       "        vertical-align: top;\n",
       "    }\n",
       "\n",
       "    .dataframe thead th {\n",
       "        text-align: right;\n",
       "    }\n",
       "</style>\n",
       "<table border=\"1\" class=\"dataframe\">\n",
       "  <thead>\n",
       "    <tr style=\"text-align: right;\">\n",
       "      <th></th>\n",
       "      <th>Unnamed: 0</th>\n",
       "      <th>index</th>\n",
       "      <th>title</th>\n",
       "      <th>body</th>\n",
       "      <th>body_clean</th>\n",
       "      <th>title_clean</th>\n",
       "      <th>input</th>\n",
       "      <th>seeking_bib</th>\n",
       "    </tr>\n",
       "  </thead>\n",
       "  <tbody>\n",
       "    <tr>\n",
       "      <th>0</th>\n",
       "      <td>0</td>\n",
       "      <td>60825</td>\n",
       "      <td>\\r\\n10M bib available\\r\\nChandler\\r\\n2/14/23 a...</td>\n",
       "      <td>\\nPlease email if interested! \\r\\n\\tPost a rep...</td>\n",
       "      <td>please email if interested!</td>\n",
       "      <td>10m bib available</td>\n",
       "      <td>10m bib available_please email if interested!</td>\n",
       "      <td>None</td>\n",
       "    </tr>\n",
       "    <tr>\n",
       "      <th>1</th>\n",
       "      <td>0</td>\n",
       "      <td>60826</td>\n",
       "      <td>\\r\\n5K Bib AVAILABLE\\r\\nJanelle\\r\\n2/14/23 at ...</td>\n",
       "      <td>\\nI just had a 5K bib transferred to me, but d...</td>\n",
       "      <td>i just had a 5k bib transferred to me, but did...</td>\n",
       "      <td>5k bib available</td>\n",
       "      <td>5k bib available_i just had a 5k bib transferr...</td>\n",
       "      <td>None</td>\n",
       "    </tr>\n",
       "    <tr>\n",
       "      <th>2</th>\n",
       "      <td>0</td>\n",
       "      <td>60827</td>\n",
       "      <td>\\r\\nLooking for 10 miler bib\\r\\nJovan\\r\\n2/14/...</td>\n",
       "      <td>\\nHi everyone,\\r\\nIn search of a 10 miler bib,...</td>\n",
       "      <td>hi everyone,\\nin search of a 10 miler bib, ple...</td>\n",
       "      <td>looking for 10 miler bib</td>\n",
       "      <td>looking for 10 miler bib_hi everyone,\\nin sear...</td>\n",
       "      <td>None</td>\n",
       "    </tr>\n",
       "    <tr>\n",
       "      <th>3</th>\n",
       "      <td>0</td>\n",
       "      <td>60828</td>\n",
       "      <td>\\r\\nLooking for 10 Miler Bib!\\r\\nKevin Stoll\\r...</td>\n",
       "      <td>\\nLooking for any 10 miler bib for my fiancee....</td>\n",
       "      <td>looking for any 10 miler bib for my fiancee. t...</td>\n",
       "      <td>looking for 10 miler bib!</td>\n",
       "      <td>looking for 10 miler bib!_looking for any 10 m...</td>\n",
       "      <td>None</td>\n",
       "    </tr>\n",
       "    <tr>\n",
       "      <th>4</th>\n",
       "      <td>0</td>\n",
       "      <td>60829</td>\n",
       "      <td>\\r\\n10 mile bib Needed- coming in from Louisia...</td>\n",
       "      <td>\\nI appreciate any one offering their bib to m...</td>\n",
       "      <td>i appreciate any one offering their bib to me.</td>\n",
       "      <td>10 mile bib needed- coming in from louisiana</td>\n",
       "      <td>10 mile bib needed- coming in from louisiana_i...</td>\n",
       "      <td>None</td>\n",
       "    </tr>\n",
       "  </tbody>\n",
       "</table>\n",
       "</div>"
      ],
      "text/plain": [
       "   Unnamed: 0  index                                              title  \\\n",
       "0           0  60825  \\r\\n10M bib available\\r\\nChandler\\r\\n2/14/23 a...   \n",
       "1           0  60826  \\r\\n5K Bib AVAILABLE\\r\\nJanelle\\r\\n2/14/23 at ...   \n",
       "2           0  60827  \\r\\nLooking for 10 miler bib\\r\\nJovan\\r\\n2/14/...   \n",
       "3           0  60828  \\r\\nLooking for 10 Miler Bib!\\r\\nKevin Stoll\\r...   \n",
       "4           0  60829  \\r\\n10 mile bib Needed- coming in from Louisia...   \n",
       "\n",
       "                                                body  \\\n",
       "0  \\nPlease email if interested! \\r\\n\\tPost a rep...   \n",
       "1  \\nI just had a 5K bib transferred to me, but d...   \n",
       "2  \\nHi everyone,\\r\\nIn search of a 10 miler bib,...   \n",
       "3  \\nLooking for any 10 miler bib for my fiancee....   \n",
       "4  \\nI appreciate any one offering their bib to m...   \n",
       "\n",
       "                                          body_clean  \\\n",
       "0                        please email if interested!   \n",
       "1  i just had a 5k bib transferred to me, but did...   \n",
       "2  hi everyone,\\nin search of a 10 miler bib, ple...   \n",
       "3  looking for any 10 miler bib for my fiancee. t...   \n",
       "4     i appreciate any one offering their bib to me.   \n",
       "\n",
       "                                    title_clean  \\\n",
       "0                             10m bib available   \n",
       "1                              5k bib available   \n",
       "2                      looking for 10 miler bib   \n",
       "3                     looking for 10 miler bib!   \n",
       "4  10 mile bib needed- coming in from louisiana   \n",
       "\n",
       "                                               input seeking_bib  \n",
       "0      10m bib available_please email if interested!        None  \n",
       "1  5k bib available_i just had a 5k bib transferr...        None  \n",
       "2  looking for 10 miler bib_hi everyone,\\nin sear...        None  \n",
       "3  looking for 10 miler bib!_looking for any 10 m...        None  \n",
       "4  10 mile bib needed- coming in from louisiana_i...        None  "
      ]
     },
     "execution_count": 18,
     "metadata": {},
     "output_type": "execute_result"
    }
   ],
   "source": [
    "df"
   ]
  },
  {
   "cell_type": "code",
   "execution_count": 35,
   "metadata": {},
   "outputs": [],
   "source": [
    "def classify_post(text):\n",
    "    candidate_labels = ['request', 'offer']\n",
    "    scores = classifier(text, candidate_labels)['scores']\n",
    "    return scores[1]"
   ]
  },
  {
   "cell_type": "code",
   "execution_count": 36,
   "metadata": {},
   "outputs": [],
   "source": [
    "df['offering_bib'] = df['input'].apply(classify_post)"
   ]
  },
  {
   "cell_type": "code",
   "execution_count": 37,
   "metadata": {},
   "outputs": [
    {
     "data": {
      "text/html": [
       "<div>\n",
       "<style scoped>\n",
       "    .dataframe tbody tr th:only-of-type {\n",
       "        vertical-align: middle;\n",
       "    }\n",
       "\n",
       "    .dataframe tbody tr th {\n",
       "        vertical-align: top;\n",
       "    }\n",
       "\n",
       "    .dataframe thead th {\n",
       "        text-align: right;\n",
       "    }\n",
       "</style>\n",
       "<table border=\"1\" class=\"dataframe\">\n",
       "  <thead>\n",
       "    <tr style=\"text-align: right;\">\n",
       "      <th></th>\n",
       "      <th>input</th>\n",
       "      <th>offering_bib</th>\n",
       "    </tr>\n",
       "  </thead>\n",
       "  <tbody>\n",
       "    <tr>\n",
       "      <th>0</th>\n",
       "      <td>10m bib available_please email if interested!</td>\n",
       "      <td>0.323005</td>\n",
       "    </tr>\n",
       "    <tr>\n",
       "      <th>1</th>\n",
       "      <td>5k bib available_i just had a 5k bib transferr...</td>\n",
       "      <td>0.475714</td>\n",
       "    </tr>\n",
       "    <tr>\n",
       "      <th>2</th>\n",
       "      <td>looking for 10 miler bib_hi everyone,\\nin sear...</td>\n",
       "      <td>0.151521</td>\n",
       "    </tr>\n",
       "    <tr>\n",
       "      <th>3</th>\n",
       "      <td>looking for 10 miler bib!_looking for any 10 m...</td>\n",
       "      <td>0.189718</td>\n",
       "    </tr>\n",
       "    <tr>\n",
       "      <th>4</th>\n",
       "      <td>10 mile bib needed- coming in from louisiana_i...</td>\n",
       "      <td>0.477904</td>\n",
       "    </tr>\n",
       "    <tr>\n",
       "      <th>...</th>\n",
       "      <td>...</td>\n",
       "      <td>...</td>\n",
       "    </tr>\n",
       "    <tr>\n",
       "      <th>77</th>\n",
       "      <td>10 miler bib neded_i am looking for a 10 miler...</td>\n",
       "      <td>0.271501</td>\n",
       "    </tr>\n",
       "    <tr>\n",
       "      <th>78</th>\n",
       "      <td>searching for a 10 mile bib - thank you!_would...</td>\n",
       "      <td>0.182485</td>\n",
       "    </tr>\n",
       "    <tr>\n",
       "      <th>79</th>\n",
       "      <td>5k bib wanted - have 10 miler_not feeling up f...</td>\n",
       "      <td>0.422384</td>\n",
       "    </tr>\n",
       "    <tr>\n",
       "      <th>80</th>\n",
       "      <td>seeking 5k bib with medal if available!_h!\\nse...</td>\n",
       "      <td>0.401991</td>\n",
       "    </tr>\n",
       "    <tr>\n",
       "      <th>81</th>\n",
       "      <td>seeking 5k bib :)_really want to run in this 5...</td>\n",
       "      <td>0.283045</td>\n",
       "    </tr>\n",
       "  </tbody>\n",
       "</table>\n",
       "<p>82 rows × 2 columns</p>\n",
       "</div>"
      ],
      "text/plain": [
       "                                                input  offering_bib\n",
       "0       10m bib available_please email if interested!      0.323005\n",
       "1   5k bib available_i just had a 5k bib transferr...      0.475714\n",
       "2   looking for 10 miler bib_hi everyone,\\nin sear...      0.151521\n",
       "3   looking for 10 miler bib!_looking for any 10 m...      0.189718\n",
       "4   10 mile bib needed- coming in from louisiana_i...      0.477904\n",
       "..                                                ...           ...\n",
       "77  10 miler bib neded_i am looking for a 10 miler...      0.271501\n",
       "78  searching for a 10 mile bib - thank you!_would...      0.182485\n",
       "79  5k bib wanted - have 10 miler_not feeling up f...      0.422384\n",
       "80  seeking 5k bib with medal if available!_h!\\nse...      0.401991\n",
       "81  seeking 5k bib :)_really want to run in this 5...      0.283045\n",
       "\n",
       "[82 rows x 2 columns]"
      ]
     },
     "execution_count": 37,
     "metadata": {},
     "output_type": "execute_result"
    }
   ],
   "source": [
    "df[['input','offering_bib']].to_clipboard()"
   ]
  },
  {
   "cell_type": "code",
   "execution_count": null,
   "metadata": {},
   "outputs": [],
   "source": []
  }
 ],
 "metadata": {
  "kernelspec": {
   "display_name": "cherryblossom",
   "language": "python",
   "name": "python3"
  },
  "language_info": {
   "codemirror_mode": {
    "name": "ipython",
    "version": 3
   },
   "file_extension": ".py",
   "mimetype": "text/x-python",
   "name": "python",
   "nbconvert_exporter": "python",
   "pygments_lexer": "ipython3",
   "version": "3.9.12"
  },
  "orig_nbformat": 4,
  "vscode": {
   "interpreter": {
    "hash": "50f8a599212d70d5c628373b295739d2ccd84c140edb0e9911b90854eb3d1cbd"
   }
  }
 },
 "nbformat": 4,
 "nbformat_minor": 2
}
